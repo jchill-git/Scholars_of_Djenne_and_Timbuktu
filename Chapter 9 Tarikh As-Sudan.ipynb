{
 "cells": [
  {
   "cell_type": "code",
   "execution_count": 68,
   "metadata": {},
   "outputs": [],
   "source": [
    "import deepl\n",
    "from bs4 import BeautifulSoup\n",
    "import requests"
   ]
  },
  {
   "cell_type": "code",
   "execution_count": 69,
   "metadata": {},
   "outputs": [],
   "source": [
    "auth_key = \"YOUR_AUTH_CODE_HERE\""
   ]
  },
  {
   "cell_type": "code",
   "execution_count": 70,
   "metadata": {},
   "outputs": [],
   "source": [
    "translator = deepl.Translator(auth_key)"
   ]
  },
  {
   "cell_type": "code",
   "execution_count": 14,
   "metadata": {},
   "outputs": [],
   "source": [
    "french_xml_url=\"https://raw.githubusercontent.com/jchill-git/TimbuktuChronicles/master/data/tarikh-as-soudan-fra2.xml\""
   ]
  },
  {
   "cell_type": "code",
   "execution_count": 18,
   "metadata": {},
   "outputs": [],
   "source": [
    "arabic_txt_url=\"https://raw.githubusercontent.com/gregorycrane/TimbuktuChronicles/master/data/tarikh-as-soudan-ara.txt\""
   ]
  },
  {
   "cell_type": "code",
   "execution_count": 15,
   "metadata": {},
   "outputs": [],
   "source": [
    "french = requests.get(french_xml_url)"
   ]
  },
  {
   "cell_type": "code",
   "execution_count": 16,
   "metadata": {},
   "outputs": [],
   "source": [
    "french_xml = BeautifulSoup(french.text, 'xml')"
   ]
  },
  {
   "cell_type": "code",
   "execution_count": 56,
   "metadata": {},
   "outputs": [],
   "source": [
    "#</div><div type=\"textpart\" subtype=\"chapter\" n=\"9\">\n",
    "french_ch_9=french_xml.find_all(subtype=\"chapter\", n=\"9\")\n"
   ]
  },
  {
   "cell_type": "code",
   "execution_count": 57,
   "metadata": {},
   "outputs": [],
   "source": [
    "eng_xml = translator.translate_text(french_ch_9,tag_handling=\"xml\",target_lang=\"EN-US\")"
   ]
  },
  {
   "cell_type": "code",
   "execution_count": 65,
   "metadata": {},
   "outputs": [
    {
     "data": {
      "text/plain": [
       "104"
      ]
     },
     "execution_count": 65,
     "metadata": {},
     "output_type": "execute_result"
    }
   ],
   "source": [
    "len(eng_xml)"
   ]
  },
  {
   "cell_type": "code",
   "execution_count": 64,
   "metadata": {},
   "outputs": [
    {
     "name": "stdout",
     "output_type": "stream",
     "text": [
      "<p>In this regard, it will suffice to reproduce what has been reported by trustworthy people from the master, the learned, the eminent, the holy character, the author of prodigies and miracles, the jurisconsult, the cadi Mohammed-El-Kabari (God have mercy on him!). This is what he said: \"I have known saints from Sankore whose virtues have never been surpassed by anyone except the Companions of the Envoy of God (God bless him and give them all his satisfaction!). Among these people, we will mention :</p>\n"
     ]
    }
   ],
   "source": [
    "print(eng_xml[2].text)"
   ]
  },
  {
   "cell_type": "code",
   "execution_count": 66,
   "metadata": {},
   "outputs": [],
   "source": [
    "filename = 'rough_eng_trans_tarikh_as_sudan.txt'\n",
    "with open(filename, 'w', encoding=\"utf-8\") as myfile:\n",
    "    for div in eng_xml:\n",
    "        myfile.write(div.text)"
   ]
  }
 ],
 "metadata": {
  "kernelspec": {
   "display_name": "Python 3",
   "language": "python",
   "name": "python3"
  },
  "language_info": {
   "codemirror_mode": {
    "name": "ipython",
    "version": 3
   },
   "file_extension": ".py",
   "mimetype": "text/x-python",
   "name": "python",
   "nbconvert_exporter": "python",
   "pygments_lexer": "ipython3",
   "version": "3.7.4"
  }
 },
 "nbformat": 4,
 "nbformat_minor": 2
}
